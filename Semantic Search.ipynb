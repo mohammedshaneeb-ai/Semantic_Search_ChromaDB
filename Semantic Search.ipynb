{
 "cells": [
  {
   "cell_type": "markdown",
   "id": "52d84ed7",
   "metadata": {},
   "source": [
    "## Installing Librarires"
   ]
  },
  {
   "cell_type": "code",
   "execution_count": 1,
   "id": "7add0059",
   "metadata": {},
   "outputs": [],
   "source": [
    "!pip install chromadb -q\n",
    "!pip install sentence-transformers -q"
   ]
  },
  {
   "cell_type": "markdown",
   "id": "1122b6ed",
   "metadata": {},
   "source": [
    "## Initaial Setup"
   ]
  },
  {
   "cell_type": "code",
   "execution_count": 1,
   "id": "557a0608",
   "metadata": {},
   "outputs": [],
   "source": [
    "import chromadb\n",
    "chroma_client = chromadb.Client()"
   ]
  },
  {
   "cell_type": "code",
   "execution_count": 3,
   "id": "5ceb1423",
   "metadata": {},
   "outputs": [],
   "source": [
    "collection = chroma_client.create_collection(name=\"semantic-search\")"
   ]
  },
  {
   "cell_type": "markdown",
   "id": "e4061ef9",
   "metadata": {},
   "source": [
    "## Creating Collection"
   ]
  },
  {
   "cell_type": "code",
   "execution_count": 4,
   "id": "2ab3004e",
   "metadata": {},
   "outputs": [
    {
     "name": "stderr",
     "output_type": "stream",
     "text": [
      "/home/mohammed_shaneeb/.cache/chroma/onnx_models/all-MiniLM-L6-v2/onnx.tar.gz: 1\n"
     ]
    }
   ],
   "source": [
    "collection.add(\n",
    "    documents=[\"This is a document about cat\", \"This is another document about car\"],\n",
    "    metadatas=[{\"category\": \"animal\"}, {\"category\": \"vehicle\"}],\n",
    "    ids=[\"id1\", \"id2\"]\n",
    ")"
   ]
  },
  {
   "cell_type": "code",
   "execution_count": 6,
   "id": "c11ba28e",
   "metadata": {},
   "outputs": [
    {
     "data": {
      "text/plain": [
       "{'ids': [['id2']],\n",
       " 'distances': [[0.8583069443702698]],\n",
       " 'metadatas': [[{'category': 'vehicle'}]],\n",
       " 'embeddings': None,\n",
       " 'documents': [['This is another document about car']]}"
      ]
     },
     "execution_count": 6,
     "metadata": {},
     "output_type": "execute_result"
    }
   ],
   "source": [
    "results = collection.query(\n",
    "    query_texts = [\"vehicle\"],\n",
    "    n_results=1\n",
    ")\n",
    "results"
   ]
  },
  {
   "cell_type": "code",
   "execution_count": 8,
   "id": "14058bc2",
   "metadata": {},
   "outputs": [],
   "source": [
    "import os\n",
    "\n",
    "def read_files_from_folder(folder_path):\n",
    "    file_data = []\n",
    "\n",
    "    for file_name in os.listdir(folder_path):\n",
    "        if file_name.endswith(\".txt\"):\n",
    "            with open(os.path.join(folder_path, file_name), 'r') as file:\n",
    "                content = file.read()\n",
    "                file_data.append({\"file_name\": file_name, \"content\": content})\n",
    "\n",
    "    return file_data\n",
    "\n",
    "folder_path = \"countries\"\n",
    "file_data = read_files_from_folder(folder_path)\n"
   ]
  },
  {
   "cell_type": "code",
   "execution_count": 9,
   "id": "f9062931",
   "metadata": {
    "collapsed": true
   },
   "outputs": [
    {
     "data": {
      "text/plain": [
       "[{'file_name': 'england.txt',\n",
       "  'content': \"Let's explore the culture, festivals, and history of England in detail.\\n\\n**England's Culture:**\\n\\n**1. Cultural Heritage:** England is renowned for its rich cultural heritage, which has significantly influenced the world. Its contributions include literature, theater, music, and art. Notable figures include William Shakespeare, Charles Dickens, and The Beatles.\\n\\n**2. Language:** English, the official language, has become a global lingua franca. England's language and literature have played a pivotal role in shaping the modern world.\\n\\n**3. Arts and Entertainment:** England is home to world-class theaters like London's West End, where numerous plays and musicals are performed. The country has a strong tradition of classical music and hosts events like the BBC Proms.\\n\\n**4. Cuisine:** English cuisine includes classics like fish and chips, roast dinners, and afternoon tea. The country also has a diverse culinary scene influenced by immigration, with a variety of international restaurants.\\n\\n**5. Sports:** England has a passionate sports culture, with football (soccer), cricket, rugby, and tennis being popular. The English Premier League is one of the world's most-watched football leagues.\\n\\n**England's Festivals:**\\n\\n**1. Bonfire Night:** Also known as Guy Fawkes Night, this November 5th celebration commemorates the failed Gunpowder Plot of 1605 with bonfires and fireworks.\\n\\n**2. Notting Hill Carnival:** Held in London in August, this vibrant carnival celebrates Caribbean culture with colorful parades, music, and dance.\\n\\n**3. Chelsea Flower Show:** This prestigious flower show takes place in May and showcases stunning garden displays and horticultural excellence.\\n\\n**4. Glastonbury Festival:** One of the world's most famous music festivals, Glastonbury attracts music lovers from around the globe and features a diverse lineup of artists.\\n\\n**5. Christmas:** Christmas in England involves decorating homes, carol singing, and festive markets. Traditional dishes include roast turkey, mince pies, and Christmas pudding.\\n\\n**England's History:**\\n\\n**1. Ancient History:** England's history dates back to ancient times, with Roman occupation from AD 43 to the early 5th century. Roman influence can still be seen in landmarks like Hadrian's Wall.\\n\\n**2. Medieval England:** The medieval period saw the rise of kingdoms, the Norman Conquest in 1066, and the signing of the Magna Carta in 1215, a foundational document in constitutional history.\\n\\n**3. Tudor and Stuart Dynasties:** The Tudor era (1485-1603) saw the reigns of monarchs like Henry VIII and Elizabeth I. The Stuart period witnessed the English Civil War and the execution of King Charles I.\\n\\n**4. British Empire:** England played a central role in the formation of the British Empire, which became one of the largest empires in history. It had vast global influence in trade, culture, and politics.\\n\\n**5. Modern England:** The Industrial Revolution in the 18th and 19th centuries transformed England into an industrial powerhouse. The 20th century saw England endure two World Wars and eventually transition into a constitutional monarchy with a parliamentary system.\\n\\n**6. Contemporary England:** Today, England is part of the United Kingdom, comprising four nations. It has a diverse, multicultural society and is known for its global cities, including London, which is a major financial and cultural hub.\\n\\nEngland's culture, festivals, and history are a testament to its enduring influence on the world. From its literary giants to its iconic music and historical landmarks, England continues to be a place of cultural significance and historical importance.\"},\n",
       " {'file_name': 'india.txt',\n",
       "  'content': 'India is a vast and diverse country with a rich cultural heritage, a tapestry of traditions, and a history that spans thousands of years. Let\\'s delve into India\\'s culture, festivals, and history in detail.\\n\\n**India\\'s Culture:**\\n\\n**1. Cultural Diversity:** India is often referred to as the \"Land of Diversity\" due to its incredible variety of cultures, languages, religions, and traditions. It is home to numerous ethnic groups, each with its unique customs and practices.\\n\\n**2. Religion:** India is the birthplace of major religions such as Hinduism, Buddhism, Jainism, and Sikhism. It\\'s also home to significant populations of Muslims, Christians, and other faiths. The religious diversity has a profound influence on India\\'s cultural landscape.\\n\\n**3. Art and Architecture:** India boasts a rich artistic heritage, with intricate temple sculptures, colorful frescoes, and stunning architectural wonders like the Taj Mahal. Traditional art forms like Bharatanatyam (a classical dance), Kathak (another classical dance), and classical music are integral to Indian culture.\\n\\n**4. Cuisine:** Indian cuisine is famous worldwide for its diverse flavors and regional specialties. Spices play a central role in Indian cooking, and popular dishes include biryani, curry, dosa, and samosa. Vegetarianism is prevalent in many parts of the country.\\n\\n**5. Clothing:** Traditional Indian clothing varies across regions. For example, sarees, dhotis, and kurta-pajamas are commonly worn. However, Western-style clothing is also prevalent in urban areas.\\n\\n**6. Festivals:** India is renowned for its vibrant festivals, each celebrated with enthusiasm and fervor. Let\\'s explore some of the most significant ones:\\n\\n**India\\'s Festivals:**\\n\\n**1. Diwali:** Also known as the Festival of Lights, Diwali celebrates the victory of light over darkness and good over evil. It involves lighting lamps, bursting fireworks, exchanging gifts, and enjoying sweets.\\n\\n**2. Holi:** Known as the Festival of Colors, Holi is a joyful celebration marked by people throwing colored powders and water at each other. It signifies the arrival of spring.\\n\\n**3. Eid:** Muslims in India celebrate Eid-ul-Fitr and Eid-ul-Adha with prayers, feasts, and the exchange of gifts. These festivals hold special significance in Islamic culture.\\n\\n**4. Durga Puja:** This is a major Hindu festival celebrated predominantly in West Bengal. It honors the goddess Durga and features elaborate decorations, cultural performances, and processions.\\n\\n**5. Christmas:** In India, Christmas is celebrated by Christians and non-Christians alike with decorated trees, midnight masses, and the exchange of gifts. It is a time of joy and togetherness.\\n\\n**India\\'s History:**\\n\\n**1. Ancient Civilization:** India\\'s history dates back to the Indus Valley Civilization, one of the world\\'s oldest urban civilizations, which existed around 2500 BCE. The Vedas, ancient scriptures, were composed during this period.\\n\\n**2. Maurya and Gupta Empires:** The Mauryan Empire, under Ashoka, united much of the Indian subcontinent in the 3rd century BCE. The Gupta Empire followed, known as the \"Golden Age\" of India, marked by advancements in science, mathematics, and art.\\n\\n**3. Mughal Empire:** The Mughals, a Muslim dynasty, ruled India from the 16th to the 18th century. They left a significant cultural legacy, including architectural wonders like the Taj Mahal.\\n\\n**4. British Colonial Rule:** India was colonized by the British East India Company in the 18th century. This period witnessed significant social, political, and economic changes and also the struggle for independence led by figures like Mahatma Gandhi.\\n\\n**5. Independence:** India gained independence from British rule on August 15, 1947, and became a democratic republic on January 26, 1950. This date is celebrated as Republic Day.\\n\\n**6. Modern India:** Since independence, India has made significant progress in various fields, including science, technology, and economy. It remains a diverse and dynamic nation with a global influence.\\n\\nIndia\\'s culture, festivals, and history are incredibly diverse and fascinating, reflecting its rich heritage and the unity in diversity that defines the nation. This is just a glimpse of the multifaceted tapestry that is India.'},\n",
       " {'file_name': 'USA.txt',\n",
       "  'content': 'Let\\'s explore the culture, festivals, and history of the United States (USA) in detail.\\n\\n**USA\\'s Culture:**\\n\\n**1. Cultural Diversity:** The United States is often called a \"melting pot\" due to its incredible diversity. People from all over the world have immigrated to the U.S., contributing to a rich blend of cultures, languages, and traditions.\\n\\n**2. Religion:** The U.S. is religiously diverse, with a variety of faiths, including Christianity, Islam, Judaism, Buddhism, Hinduism, and others. Religious freedom is a fundamental principle in American culture.\\n\\n**3. Arts and Entertainment:** The USA has a vibrant arts scene, with contributions to literature, music, film, and visual arts. Iconic American authors like Mark Twain and Ernest Hemingway, legendary musicians like Elvis Presley and Bob Dylan, and Hollywood\\'s film industry have made a global impact.\\n\\n**4. Cuisine:** American cuisine is a reflection of its diverse population. It includes dishes influenced by Native American, European, African, Asian, and Latin American traditions. Fast food, barbecue, and regional specialties like Tex-Mex and New England clam chowder are notable.\\n\\n**5. Clothing:** American clothing styles vary widely, from casual wear like jeans and T-shirts to formal attire for business and special occasions. The U.S. is also known for its fashion industry, with cities like New York being major fashion hubs.\\n\\n**USA\\'s Festivals:**\\n\\n**1. Independence Day:** The Fourth of July is a significant national holiday commemorating the Declaration of Independence in 1776. It\\'s celebrated with fireworks, parades, barbecues, and patriotic displays.\\n\\n**2. Thanksgiving:** Thanksgiving, celebrated on the fourth Thursday in November, is a time for families to gather and give thanks. A traditional feast includes roast turkey, stuffing, and pumpkin pie.\\n\\n**3. Halloween:** On October 31st, Americans celebrate Halloween with costume parties, trick-or-treating, and haunted house visits. It\\'s a fun holiday for people of all ages.\\n\\n**4. Christmas:** Christmas is celebrated with decorations, gift-giving, and gatherings. Many cities are adorned with festive lights and decorations, and families exchange gifts on December 25th.\\n\\n**5. Labor Day:** Observed on the first Monday in September, Labor Day honors the contributions of workers and the labor movement. It often marks the end of summer and is celebrated with picnics and parades.\\n\\n**USA\\'s History:**\\n\\n**1. Colonial Period:** European settlers, primarily from England, established colonies along the Eastern seaboard in the 17th century. The Mayflower Compact and the establishment of Jamestown are key events from this era.\\n\\n**2. American Revolution:** The American Revolution (1775-1783) led to the 13 American colonies gaining independence from British rule. The Declaration of Independence and the Revolutionary War are pivotal moments.\\n\\n**3. Expansion and Westward Movement:** The 19th century saw westward expansion, the Louisiana Purchase, and the Oregon Trail. This period contributed to the concept of Manifest Destiny, the belief in American expansion across the continent.\\n\\n**4. Civil War:** The American Civil War (1861-1865) was a defining moment in U.S. history, resulting in the abolition of slavery and the preservation of the Union.\\n\\n**5. 20th and 21st Centuries:** The U.S. experienced significant changes, including industrialization, the women\\'s suffrage movement, two World Wars, the civil rights movement, and technological advancements. The USA has become a global superpower and played a major role in international affairs.\\n\\nThe United States\\' culture, festivals, and history reflect its diverse and dynamic nature. It has shaped and been shaped by waves of immigration, social movements, and technological advancements, making it a complex and influential nation on the global stage.'},\n",
       " {'file_name': 'canada.txt',\n",
       "  'content': 'Let\\'s explore the culture, festivals, and history of Canada in detail.\\n\\n**Canada\\'s Culture:**\\n\\n**1. Cultural Diversity:** Canada is known for its cultural mosaic, where people from diverse backgrounds and ethnicities coexist harmoniously. This multiculturalism is a defining feature of Canadian society.\\n\\n**2. Bilingualism:** Canada is officially bilingual, with English and French as the two official languages. This bilingualism reflects the country\\'s history and the presence of a significant French-speaking population in the province of Quebec.\\n\\n**3. Arts and Culture:** Canada has a rich artistic heritage, with contributions to literature, music, film, and visual arts. Canadian authors like Margaret Atwood and Yann Martel have achieved international acclaim. The country is also known for its indigenous art and traditions.\\n\\n**4. Indigenous Culture:** Canada\\'s indigenous peoples, including First Nations, Inuit, and Métis, have a deep cultural heritage. Indigenous art, storytelling, and traditions are an integral part of Canadian culture.\\n\\n**5. Cuisine:** Canadian cuisine is influenced by both indigenous and immigrant cultures. Iconic dishes include poutine (fries with cheese curds and gravy), butter tarts, tourtière (meat pie), and Nanaimo bars.\\n\\n**Canada\\'s Festivals:**\\n\\n**1. Canada Day:** Celebrated on July 1st, Canada Day marks the anniversary of Confederation in 1867 when Canada became a self-governing dominion within the British Empire. Festivities include parades, fireworks, and concerts.\\n\\n**2. Thanksgiving:** Similar to the U.S., Canada celebrates Thanksgiving on the second Monday in October. Families gather for a meal to give thanks for the harvest and blessings of the past year.\\n\\n**3. Winterlude:** Held in Ottawa, this winter festival showcases Canada\\'s love for winter sports and activities. It features ice sculptures, snow slides, and outdoor concerts.\\n\\n**4. Calgary Stampede:** Known as the \"Greatest Outdoor Show on Earth,\" this rodeo and exhibition celebrates Canada\\'s western heritage with rodeo events, concerts, and a lively carnival atmosphere.\\n\\n**5. Indigenous Powwows:** Throughout the year, various indigenous communities in Canada host powwows, which are gatherings featuring traditional dancing, drumming, and cultural celebrations.\\n\\n**Canada\\'s History:**\\n\\n**1. Indigenous Peoples:** Canada has a long history of indigenous cultures dating back thousands of years. These diverse communities have their own languages, traditions, and histories.\\n\\n**2. European Exploration:** European exploration of Canada began in the 15th century with the arrival of explorers like John Cabot and Jacques Cartier. The fur trade became a significant economic activity.\\n\\n**3. Confederation:** On July 1, 1867, the Dominion of Canada was established through the British North America Act, uniting the provinces of Ontario, Quebec, New Brunswick, and Nova Scotia.\\n\\n**4. Expansion and Immigration:** Canada\\'s expansion westward in the late 19th and early 20th centuries attracted immigrants from Europe, Asia, and other parts of the world. This diversity has shaped modern Canada.\\n\\n**5. Independence:** Canada gradually gained more autonomy from Britain and achieved full sovereignty in 1982 with the Canada Act. The country is a constitutional monarchy with a parliamentary democracy.\\n\\nCanada\\'s culture, festivals, and history are a reflection of its multicultural identity and its commitment to inclusivity and diversity. Its history is marked by indigenous heritage, European exploration, and a modern nation known for its natural beauty, social programs, and progressive values.'},\n",
       " {'file_name': 'pakistan.txt',\n",
       "  'content': \"Let's explore Pakistan's culture, festivals, and history in detail.\\n\\n**Pakistan's Culture:**\\n\\n**1. Cultural Diversity:** Pakistan is a diverse country with a rich tapestry of cultures, languages, and traditions. It is home to various ethnic groups, each contributing to the nation's unique cultural mosaic.\\n\\n**2. Religion:** Islam is the predominant religion in Pakistan, and it plays a central role in shaping the country's culture and way of life. Mosques, Islamic art, and calligraphy are integral parts of the cultural landscape.\\n\\n**3. Art and Architecture:** Pakistan has a rich artistic heritage, with impressive Islamic architecture, including Badshahi Mosque in Lahore and Shah Jahan Mosque in Thatta. Traditional art forms like truck art, pottery, and intricate textiles are prominent.\\n\\n**4. Cuisine:** Pakistani cuisine is known for its flavorful dishes, including biryani, kebabs, nihari, and various types of bread, such as naan and roti. Spices and aromatic herbs are commonly used in cooking.\\n\\n**5. Clothing:** Traditional Pakistani clothing varies by region. Men often wear shalwar kameez, while women wear various styles of shalwar kameez and saris. Western attire is also popular, especially in urban areas.\\n\\n**Pakistan's Festivals:**\\n\\n**1. Eid:** Eid-ul-Fitr and Eid-ul-Adha are two major Islamic festivals celebrated with great fervor. People dress in their finest clothes, offer prayers, exchange gifts, and share festive meals with family and friends.\\n\\n**2. Basant:** The Basant festival, celebrated in Punjab, marks the arrival of spring. It involves kite flying competitions, music, and dancing, with participants wearing bright colors.\\n\\n**3. Independence Day:** Pakistan celebrates its Independence Day on August 14th, commemorating the day it gained independence from British rule in 1947. Festivities include flag hoisting, parades, and cultural performances.\\n\\n**4. Shab-e-Barat:** This Islamic festival, also known as the Night of Forgiveness, involves special prayers and acts of charity. It's a time for Muslims to seek forgiveness and reflect on their deeds.\\n\\n**5. Urs Festivals:** These are annual festivals held at the shrines of Sufi saints across Pakistan. People gather to pay their respects, offer prayers, and participate in devotional music and dance.\\n\\n**Pakistan's History:**\\n\\n**1. Ancient History:** The region that is now Pakistan has a rich ancient history, with Indus Valley Civilization settlements dating back to 3300 BCE. This civilization is one of the world's oldest urban centers.\\n\\n**2. Muslim Rule:** The region saw the arrival of Islam in the 7th century, and it became a center for Islamic culture and learning. It was ruled by various Muslim dynasties, including the Mughals and the Delhi Sultanate.\\n\\n**3. Independence:** Pakistan gained independence on August 14, 1947, following the partition of British India. Muhammad Ali Jinnah, the founder of Pakistan, became its first Governor-General.\\n\\n**4. Modern Pakistan:** Since independence, Pakistan has faced various challenges and periods of political change. It has made progress in education, science, and technology and is known for its contributions in fields like literature, music, and sports.\\n\\n**5. Contemporary Pakistan:** Pakistan is a diverse and dynamic nation with a complex geopolitical landscape. It continues to play a significant role in regional and global affairs.\\n\\nPakistan's culture, festivals, and history are deeply rooted in its Islamic heritage and diverse cultural influences. The country's rich traditions and historical legacy contribute to its unique identity.\"}]"
      ]
     },
     "execution_count": 9,
     "metadata": {},
     "output_type": "execute_result"
    }
   ],
   "source": [
    "file_data"
   ]
  },
  {
   "cell_type": "markdown",
   "id": "67400d70",
   "metadata": {},
   "source": [
    "## Adding File to ChromaDB"
   ]
  },
  {
   "cell_type": "code",
   "execution_count": 10,
   "id": "9e79cd91",
   "metadata": {},
   "outputs": [
    {
     "ename": "IndentationError",
     "evalue": "expected an indented block (1975367789.py, line 5)",
     "output_type": "error",
     "traceback": [
      "\u001b[0;36m  Cell \u001b[0;32mIn[10], line 5\u001b[0;36m\u001b[0m\n\u001b[0;31m    for index,data in enumerate(file_data):\u001b[0m\n\u001b[0m                                           ^\u001b[0m\n\u001b[0;31mIndentationError\u001b[0m\u001b[0;31m:\u001b[0m expected an indented block\n"
     ]
    }
   ],
   "source": [
    "documents = []\n",
    "metadatas = []\n",
    "ids =  []\n",
    "\n",
    "for index,data in enumerate(file_data):\n",
    "    documents.append(data['content'])\n",
    "    metadatas.append({'source':data['file_name']})\n",
    "    ids.append(str(index+1))\n",
    "    \n",
    "countires_collection = chroma_client.create_collection()"
   ]
  },
  {
   "cell_type": "code",
   "execution_count": null,
   "id": "209f0a76",
   "metadata": {},
   "outputs": [],
   "source": []
  },
  {
   "cell_type": "code",
   "execution_count": null,
   "id": "61a8682c",
   "metadata": {},
   "outputs": [],
   "source": []
  },
  {
   "cell_type": "code",
   "execution_count": null,
   "id": "3aaad280",
   "metadata": {},
   "outputs": [],
   "source": []
  },
  {
   "cell_type": "code",
   "execution_count": null,
   "id": "e8fa67df",
   "metadata": {},
   "outputs": [],
   "source": []
  },
  {
   "cell_type": "code",
   "execution_count": null,
   "id": "a9a2b6d1",
   "metadata": {},
   "outputs": [],
   "source": []
  },
  {
   "cell_type": "code",
   "execution_count": null,
   "id": "6e940c72",
   "metadata": {},
   "outputs": [],
   "source": []
  },
  {
   "cell_type": "code",
   "execution_count": null,
   "id": "6aa68d87",
   "metadata": {},
   "outputs": [],
   "source": []
  },
  {
   "cell_type": "code",
   "execution_count": null,
   "id": "1c67dd2e",
   "metadata": {},
   "outputs": [],
   "source": []
  }
 ],
 "metadata": {
  "kernelspec": {
   "display_name": "Python 3 (ipykernel)",
   "language": "python",
   "name": "python3"
  },
  "language_info": {
   "codemirror_mode": {
    "name": "ipython",
    "version": 3
   },
   "file_extension": ".py",
   "mimetype": "text/x-python",
   "name": "python",
   "nbconvert_exporter": "python",
   "pygments_lexer": "ipython3",
   "version": "3.9.17"
  }
 },
 "nbformat": 4,
 "nbformat_minor": 5
}
