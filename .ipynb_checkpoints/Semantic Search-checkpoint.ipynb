{
 "cells": [
  {
   "cell_type": "markdown",
   "id": "52d84ed7",
   "metadata": {},
   "source": [
    "## Installing Librarires"
   ]
  },
  {
   "cell_type": "code",
   "execution_count": 1,
   "id": "7add0059",
   "metadata": {},
   "outputs": [],
   "source": [
    "!pip install chromadb -q\n",
    "!pip install sentence-transformers -q"
   ]
  },
  {
   "cell_type": "markdown",
   "id": "1122b6ed",
   "metadata": {},
   "source": [
    "## Initaial Setup"
   ]
  },
  {
   "cell_type": "code",
   "execution_count": 1,
   "id": "557a0608",
   "metadata": {},
   "outputs": [],
   "source": [
    "import chromadb\n",
    "chroma_client = chromadb.Client()"
   ]
  },
  {
   "cell_type": "code",
   "execution_count": 3,
   "id": "ff0fac9d",
   "metadata": {},
   "outputs": [],
   "source": [
    "collection = chroma_client.create_collection(name=\"semantic-search\")"
   ]
  },
  {
   "cell_type": "markdown",
   "id": "e4061ef9",
   "metadata": {},
   "source": [
    "## Creating Collection"
   ]
  },
  {
   "cell_type": "code",
   "execution_count": 4,
   "id": "2ab3004e",
   "metadata": {},
   "outputs": [
    {
     "name": "stderr",
     "output_type": "stream",
     "text": [
      "/home/mohammed_shaneeb/.cache/chroma/onnx_models/all-MiniLM-L6-v2/onnx.tar.gz: 1\n"
     ]
    }
   ],
   "source": [
    "collection.add(\n",
    "    documents=[\"This is a document about cat\", \"This is another document about car\"],\n",
    "    metadatas=[{\"category\": \"animal\"}, {\"category\": \"vehicle\"}],\n",
    "    ids=[\"id1\", \"id2\"]\n",
    ")"
   ]
  },
  {
   "cell_type": "code",
   "execution_count": 6,
   "id": "c11ba28e",
   "metadata": {},
   "outputs": [
    {
     "data": {
      "text/plain": [
       "{'ids': [['id2']],\n",
       " 'distances': [[0.8583069443702698]],\n",
       " 'metadatas': [[{'category': 'vehicle'}]],\n",
       " 'embeddings': None,\n",
       " 'documents': [['This is another document about car']]}"
      ]
     },
     "execution_count": 6,
     "metadata": {},
     "output_type": "execute_result"
    }
   ],
   "source": [
    "results = collection.query(\n",
    "    query_texts = [\"vehicle\"],\n",
    "    n_results=1\n",
    ")\n",
    "results"
   ]
  },
  {
   "cell_type": "code",
   "execution_count": 8,
   "id": "14058bc2",
   "metadata": {},
   "outputs": [],
   "source": [
    "import os\n",
    "\n",
    "def read_files_from_folder(folder_path):\n",
    "    file_data = []\n",
    "\n",
    "    for file_name in os.listdir(folder_path):\n",
    "        if file_name.endswith(\".txt\"):\n",
    "            with open(os.path.join(folder_path, file_name), 'r') as file:\n",
    "                content = file.read()\n",
    "                file_data.append({\"file_name\": file_name, \"content\": content})\n",
    "\n",
    "    return file_data\n",
    "\n",
    "folder_path = \"countries\"\n",
    "file_data = read_files_from_folder(folder_path)\n"
   ]
  },
  {
   "cell_type": "code",
   "execution_count": null,
   "id": "f9062931",
   "metadata": {},
   "outputs": [],
   "source": []
  }
 ],
 "metadata": {
  "kernelspec": {
   "display_name": "Python 3 (ipykernel)",
   "language": "python",
   "name": "python3"
  },
  "language_info": {
   "codemirror_mode": {
    "name": "ipython",
    "version": 3
   },
   "file_extension": ".py",
   "mimetype": "text/x-python",
   "name": "python",
   "nbconvert_exporter": "python",
   "pygments_lexer": "ipython3",
   "version": "3.9.17"
  }
 },
 "nbformat": 4,
 "nbformat_minor": 5
}
